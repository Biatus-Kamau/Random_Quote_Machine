{
  "cells": [
    {
      "cell_type": "markdown",
      "metadata": {
        "id": "Tce3stUlHN0L"
      },
      "source": [
        "##### Copyright 2023 Google LLC"
      ]
    },
    {
      "cell_type": "code",
      "execution_count": null,
      "metadata": {
        "cellView": "form",
        "id": "tuOe1ymfHZPu"
      },
      "outputs": [],
      "source": [
        "# @title Licensed under the Apache License, Version 2.0 (the \"License\");\n",
        "# you may not use this file except in compliance with the License.\n",
        "# You may obtain a copy of the License at\n",
        "#\n",
        "# https://www.apache.org/licenses/LICENSE-2.0\n",
        "#\n",
        "# Unless required by applicable law or agreed to in writing, software\n",
        "# distributed under the License is distributed on an \"AS IS\" BASIS,\n",
        "# WITHOUT WARRANTIES OR CONDITIONS OF ANY KIND, either express or implied.\n",
        "# See the License for the specific language governing permissions and\n",
        "# limitations under the License."
      ]
    },
    {
      "cell_type": "markdown",
      "metadata": {
        "id": "FKwyTRdwB8aW"
      },
      "source": [
        "## Setup"
      ]
    },
    {
      "cell_type": "code",
      "execution_count": 1,
      "metadata": {
        "id": "RXInneX6xx7c"
      },
      "outputs": [],
      "source": [
        "!pip install -U -q \"google-generativeai>=0.8.2\""
      ]
    },
    {
      "cell_type": "code",
      "execution_count": 2,
      "metadata": {
        "id": "kWIuwKG2_oWE",
        "colab": {
          "base_uri": "https://localhost:8080/"
        },
        "outputId": "61891804-38ea-476d-982d-170220d2e8c0"
      },
      "outputs": [
        {
          "output_type": "stream",
          "name": "stdout",
          "text": [
            "[\n",
            "    {\n",
            "        \"role\": \"user\",\n",
            "        \"parts\": [\n",
            "            {\n",
            "                \"text\": \"online business ideas 2024\"\n",
            "            }\n",
            "        ]\n",
            "    },\n",
            "    {\n",
            "        \"role\": \"model\",\n",
            "        \"parts\": [\n",
            "            {\n",
            "                \"text\": \"## Online Business Ideas for 2024:\\\\n\\\\nHere are some online business ideas for 2024, categorized by their focus:\\\\n\\\\n**E-commerce & Retail:**\\\\n\\\\n* **Sustainable & Ethical Products:** Offer eco-friendly, ethically sourced clothing, home goods, or beauty products.\\\\n* **Personalized Products:** Offer customized gifts, clothing, or accessories.\\\\n* **Subscription Boxes:** Focus on niche interests like pet supplies, beauty products, or healthy snacks.\\\\n* **Dropshipping:** Sell products online without holding inventory.\\\\n* **Reselling:** Source unique items from thrift stores or online marketplaces and resell them for profit.\\\\n* **Upcycled & Vintage:** Sell vintage clothing, furniture, or home decor with a modern twist.\\\\n\\\\n**Digital Services:**\\\\n\\\\n* **Virtual Assistant:** Offer administrative, technical, or creative support to businesses and individuals.\\\\n* **Social Media Management:** Manage social media accounts for businesses and individuals.\\\\n* **Web Design & Development:** Create websites and online applications.\\\\n* **Content Creation:** Write articles, blog posts, website copy, social media posts, or videos.\\\\n* **Online Tutoring:** Provide tutoring services in various subjects.\\\\n* **Graphic Design:** Design logos, branding materials, and other visual assets.\\\\n* **Freelance Writing:** Offer writing services for websites, blogs, and other platforms.\\\\n\\\\n**Other:**\\\\n\\\\n* **Online Course Creation:** Teach a skill or share your knowledge through an online course.\\\\n* **Affiliate Marketing:** Promote products or services and earn a commission on sales.\\\\n* **Online Coaching:** Provide coaching services in areas like fitness, nutrition, or personal development.\\\\n* **Digital Marketing Agency:** Offer services like SEO, paid advertising, and social media marketing.\\\\n* **Online Community Building:** Create a platform for people with shared interests.\\\\n* **E-books & Digital Products:** Create and sell e-books, templates, or other digital products.\\\\n* **NFT Creation & Selling:** Create and sell non-fungible tokens (NFTs) on the blockchain.\\\\n\\\\n**Emerging Trends:**\\\\n\\\\n* **AI & Machine Learning:** Develop AI-powered solutions for businesses or consumers.\\\\n* **Web3 & Blockchain:** Build decentralized applications (DApps) or offer services related to the blockchain.\\\\n* **Metaverse:** Develop or sell virtual goods and services for metaverse platforms.\\\\n* **Sustainable & Eco-Friendly Solutions:** Offer environmentally conscious products or services.\\\\n* **Health & Wellness:** Focus on online services related to mental health, fitness, or nutrition.\\\\n\\\\n**Tips for Success:**\\\\n\\\\n* **Focus on a niche:** Identify a specific market with unmet needs.\\\\n* **Build a strong online presence:** Create a professional website and engage on social media.\\\\n* **Provide excellent customer service:** Build relationships with customers and go the extra mile.\\\\n* **Stay up-to-date with trends:** Continuously learn and adapt to the ever-changing online landscape.\\\\n* **Market your business effectively:** Use digital marketing strategies to reach your target audience.\\\\n* **Don't be afraid to experiment:** Try new things and learn from your mistakes.\\\\n\\\\nRemember, the best online business idea for you will depend on your skills, interests, and resources. Do your research, identify your target market, and create a unique value proposition. With hard work and dedication, you can build a successful online business in 2024. \\\\n\"\n",
            "            }\n",
            "        ]\n",
            "    }\n",
            "]\n"
          ]
        }
      ],
      "source": [
        "# import necessary modules.\n",
        "import base64\n",
        "import copy\n",
        "import json\n",
        "import pathlib\n",
        "import requests\n",
        "\n",
        "\n",
        "import PIL.Image\n",
        "import IPython.display\n",
        "from IPython.display import Markdown\n",
        "\n",
        "try:\n",
        "    # The SDK will automatically read it from the GOOGLE_API_KEY environment variable.\n",
        "    # In Colab get the key from Colab-secrets (\"🔑\" in the left panel).\n",
        "    import os\n",
        "    from google.colab import userdata\n",
        "\n",
        "    os.environ[\"GOOGLE_API_KEY\"] = userdata.get(\"GOOGLE_API_KEY\")\n",
        "except ImportError:\n",
        "    pass\n",
        "\n",
        "import google.generativeai as genai\n",
        "\n",
        "# Parse the arguments\n",
        "\n",
        "model = 'gemini-1.5-flash' # @param {isTemplate: true}\n",
        "contents_b64 = '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' # @param {isTemplate: true}\n",
        "generation_config_b64 = 'eyJ0ZW1wZXJhdHVyZSI6MSwidG9wX3AiOjAuOTUsInRvcF9rIjo0MCwibWF4X291dHB1dF90b2tlbnMiOjgxOTJ9' # @param {isTemplate: true}\n",
        "safety_settings_b64 = \"e30=\"  # @param {isTemplate: true}\n",
        "\n",
        "gais_contents = json.loads(base64.b64decode(contents_b64))\n",
        "\n",
        "generation_config = json.loads(base64.b64decode(generation_config_b64))\n",
        "safety_settings = json.loads(base64.b64decode(safety_settings_b64))\n",
        "\n",
        "stream = False\n",
        "\n",
        "# Convert and upload the files\n",
        "\n",
        "tempfiles = pathlib.Path(f\"tempfiles\")\n",
        "tempfiles.mkdir(parents=True, exist_ok=True)\n",
        "\n",
        "\n",
        "drive = None\n",
        "def upload_file_data(file_data, index):\n",
        "    \"\"\"Upload files to the Files API.\n",
        "\n",
        "    For each file, Google AI Studio either sent:\n",
        "    - a Google Drive ID,\n",
        "    - a URL,\n",
        "    - a file path, or\n",
        "    - The raw bytes (`inline_data`).\n",
        "\n",
        "    The API only understands `inline_data` or it's Files API.\n",
        "    This code, uploads files to the files API where the API can access them.\n",
        "    \"\"\"\n",
        "\n",
        "    mime_type = file_data[\"mime_type\"]\n",
        "    if drive_id := file_data.pop(\"drive_id\", None):\n",
        "        if drive is None:\n",
        "          from google.colab import drive\n",
        "          drive.mount(\"/gdrive\")\n",
        "\n",
        "        path = next(\n",
        "            pathlib.Path(f\"/gdrive/.shortcut-targets-by-id/{drive_id}\").glob(\"*\")\n",
        "        )\n",
        "        print(\"Uploading:\", str(path))\n",
        "        file_info = genai.upload_file(path=path, mime_type=mime_type)\n",
        "        file_data[\"file_uri\"] = file_info.uri\n",
        "        return\n",
        "\n",
        "    if url := file_data.pop(\"url\", None):\n",
        "        response = requests.get(url)\n",
        "        data = response.content\n",
        "        name = url.split(\"/\")[-1]\n",
        "        path = tempfiles / str(index)\n",
        "        path.write_bytes(data)\n",
        "        print(\"Uploading:\", url)\n",
        "        file_info = genai.upload_file(path, display_name=name, mime_type=mime_type)\n",
        "        file_data[\"file_uri\"] = file_info.uri\n",
        "        return\n",
        "\n",
        "    if name := file_data.get(\"filename\", None):\n",
        "        if not pathlib.Path(name).exists():\n",
        "            raise IOError(\n",
        "                f\"local file: `{name}` does not exist. You can upload files \"\n",
        "                'to Colab using the file manager (\"📁 Files\" in the left '\n",
        "                \"toolbar)\"\n",
        "            )\n",
        "        file_info = genai.upload_file(path, display_name=name, mime_type=mime_type)\n",
        "        file_data[\"file_uri\"] = file_info.uri\n",
        "        return\n",
        "\n",
        "    if \"inline_data\" in file_data:\n",
        "        return\n",
        "\n",
        "    raise ValueError(\"Either `drive_id`, `url` or `inline_data` must be provided.\")\n",
        "\n",
        "\n",
        "contents = copy.deepcopy(gais_contents)\n",
        "\n",
        "index = 0\n",
        "for content in contents:\n",
        "    for n, part in enumerate(content[\"parts\"]):\n",
        "        if file_data := part.get(\"file_data\", None):\n",
        "            upload_file_data(file_data, index)\n",
        "            index += 1\n",
        "\n",
        "import json\n",
        "print(json.dumps(contents, indent=4))"
      ]
    },
    {
      "cell_type": "markdown",
      "metadata": {
        "id": "E7zAD69vE92b"
      },
      "source": [
        "## Call `generate_content`"
      ]
    },
    {
      "cell_type": "code",
      "execution_count": 3,
      "metadata": {
        "id": "LB2LxPmAB95V",
        "colab": {
          "base_uri": "https://localhost:8080/",
          "height": 122
        },
        "outputId": "47c8088e-3645-4a92-b908-c745e0785bfe"
      },
      "outputs": [
        {
          "output_type": "display_data",
          "data": {
            "text/plain": [
              "<IPython.core.display.Markdown object>"
            ],
            "text/markdown": "**Bonus:**\n\n* **Consider using tools:** There are many tools available to help you with your online business, including website builders, social media management platforms, email marketing tools, and more.\n* **Network with other entrepreneurs:** Connect with other online business owners to share tips, resources, and support.\\n\n* **Don't give up!** Starting and growing an online business takes time and effort. Stay persistent and you will eventually achieve your goals."
          },
          "metadata": {}
        }
      ],
      "source": [
        "from IPython.display import display\n",
        "from IPython.display import Markdown\n",
        "\n",
        "# Call the model and print the response.\n",
        "gemini = genai.GenerativeModel(model_name=model)\n",
        "\n",
        "response = gemini.generate_content(\n",
        "    contents,\n",
        "    generation_config=generation_config,\n",
        "    safety_settings=safety_settings,\n",
        "    stream=stream,\n",
        ")\n",
        "\n",
        "display(Markdown(response.text))"
      ]
    },
    {
      "cell_type": "markdown",
      "metadata": {
        "id": "9c9d345e9868"
      },
      "source": [
        "<table class=\"tfo-notebook-buttons\" align=\"left\">\n",
        "  <td>\n",
        "    <a target=\"_blank\" href=\"https://ai.google.dev/gemini-api/docs\"><img src=\"https://ai.google.dev/static/site-assets/images/docs/notebook-site-button.png\" height=\"32\" width=\"32\" />Docs on ai.google.dev</a>\n",
        "  </td>\n",
        "  <td>\n",
        "    <a target=\"_blank\" href=\"https://github.com/google-gemini/cookbook/blob/main/quickstarts\"><img src=\"https://www.tensorflow.org/images/GitHub-Mark-32px.png\" />More notebooks in the Cookbook</a>\n",
        "  </td>\n",
        "</table>"
      ]
    },
    {
      "cell_type": "markdown",
      "metadata": {
        "id": "F91AeeGO1ncU"
      },
      "source": [
        "## [optional] Show the conversation\n",
        "\n",
        "This section displays the conversation received from Google AI Studio."
      ]
    },
    {
      "cell_type": "code",
      "execution_count": null,
      "metadata": {
        "cellView": "form",
        "id": "yoL3p3KPylFW"
      },
      "outputs": [],
      "source": [
        "# @title Show the conversation, in colab.\n",
        "import mimetypes\n",
        "\n",
        "def show_file(file_data):\n",
        "    mime_type = file_data[\"mime_type\"]\n",
        "\n",
        "    if drive_id := file_data.get(\"drive_id\", None):\n",
        "        path = next(\n",
        "            pathlib.Path(f\"/gdrive/.shortcut-targets-by-id/{drive_id}\").glob(\"*\")\n",
        "        )\n",
        "        name = path\n",
        "        # data = path.read_bytes()\n",
        "        kwargs = {\"filename\": path}\n",
        "    elif url := file_data.get(\"url\", None):\n",
        "        name = url\n",
        "        kwargs = {\"url\": url}\n",
        "        # response = requests.get(url)\n",
        "        # data = response.content\n",
        "    elif data := file_data.get(\"inline_data\", None):\n",
        "        name = None\n",
        "        kwargs = {\"data\": data}\n",
        "    elif name := file_data.get(\"filename\", None):\n",
        "        if not pathlib.Path(name).exists():\n",
        "            raise IOError(\n",
        "                f\"local file: `{name}` does not exist. You can upload files to \"\n",
        "                'Colab using the file manager (\"📁 Files\"in the left toolbar)'\n",
        "            )\n",
        "    else:\n",
        "        raise ValueError(\"Either `drive_id`, `url` or `inline_data` must be provided.\")\n",
        "\n",
        "        print(f\"File:\\n    name: {name}\\n    mime_type: {mime_type}\\n\")\n",
        "        return\n",
        "\n",
        "    format = mimetypes.guess_extension(mime_type).strip(\".\")\n",
        "    if mime_type.startswith(\"image/\"):\n",
        "        image = IPython.display.Image(**kwargs, width=256)\n",
        "        IPython.display.display(image)\n",
        "        print()\n",
        "        return\n",
        "\n",
        "    if mime_type.startswith(\"audio/\"):\n",
        "        if len(data) < 2**12:\n",
        "            audio = IPython.display.Audio(**kwargs)\n",
        "            IPython.display.display(audio)\n",
        "            print()\n",
        "            return\n",
        "\n",
        "    if mime_type.startswith(\"video/\"):\n",
        "        if len(data) < 2**12:\n",
        "            audio = IPython.display.Video(**kwargs, mimetype=mime_type)\n",
        "            IPython.display.display(audio)\n",
        "            print()\n",
        "            return\n",
        "\n",
        "    print(f\"File:\\n    name: {name}\\n    mime_type: {mime_type}\\n\")\n",
        "\n",
        "\n",
        "for content in gais_contents:\n",
        "    if role := content.get(\"role\", None):\n",
        "        print(\"Role:\", role, \"\\n\")\n",
        "\n",
        "    for n, part in enumerate(content[\"parts\"]):\n",
        "        if text := part.get(\"text\", None):\n",
        "            print(text, \"\\n\")\n",
        "\n",
        "        elif file_data := part.get(\"file_data\", None):\n",
        "            show_file(file_data)\n",
        "\n",
        "    print(\"-\" * 80, \"\\n\")"
      ]
    }
  ],
  "metadata": {
    "colab": {
      "collapsed_sections": [
        "Tce3stUlHN0L"
      ],
      "name": "aistudio_gemini_prompt_freeform.ipynb",
      "toc_visible": true,
      "provenance": []
    },
    "kernelspec": {
      "display_name": "Python 3",
      "name": "python3"
    }
  },
  "nbformat": 4,
  "nbformat_minor": 0
}